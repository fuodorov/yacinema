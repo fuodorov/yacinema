{
 "cells": [
  {
   "cell_type": "markdown",
   "metadata": {
    "collapsed": true,
    "pycharm": {
     "name": "#%% md\n"
    }
   },
   "source": [
    "## Тестирование производительности Mongo\n",
    "\n",
    "В рамках исследования было рассмотрено хранилище Mongo."
   ]
  },
  {
   "cell_type": "markdown",
   "source": [
    "### Требования\n",
    "\n",
    "- количество пользователей: 500_000\n",
    "- количество фильмов: 20_000\n",
    "- максимальное время ответа БД: 200мс"
   ],
   "metadata": {
    "collapsed": false,
    "pycharm": {
     "name": "#%% md\n"
    }
   }
  },
  {
   "cell_type": "markdown",
   "source": [
    "### Запуск"
   ],
   "metadata": {
    "collapsed": false,
    "pycharm": {
     "name": "#%% md\n"
    }
   }
  },
  {
   "cell_type": "code",
   "execution_count": 1,
   "outputs": [
    {
     "name": "stdout",
     "output_type": "stream",
     "text": [
      "/usr/lib/python3/dist-packages/requests/__init__.py:89: RequestsDependencyWarning: urllib3 (1.26.5) or chardet (3.0.4) doesn't match a supported version!\r\n",
      "  warnings.warn(\"urllib3 ({}) or chardet ({}) doesn't match a supported \"\r\n",
      "Creating network \"mongo_default\" with the default driver\r\n",
      "Creating volume \"mongo_ugc_mongo_cluster_data1\" with default driver\r\n",
      "Creating volume \"mongo_ugc_mongo_cluster_data2\" with default driver\r\n",
      "Creating volume \"mongo_ugc_mongo_cluster_data3\" with default driver\r\n",
      "Creating volume \"mongo_ugc_mongo_cluster_data4\" with default driver\r\n",
      "Creating volume \"mongo_ugc_mongo_cluster_data5\" with default driver\r\n",
      "Creating volume \"mongo_ugc_mongo_cluster_data6\" with default driver\r\n",
      "Creating volume \"mongo_ugc_mongo_cluster_config1\" with default driver\r\n",
      "Creating volume \"mongo_ugc_mongo_cluster_config2\" with default driver\r\n",
      "Creating volume \"mongo_ugc_mongo_cluster_config3\" with default driver\r\n",
      "Creating mongors2n3 ... \r\n",
      "Creating mongocfg2  ... \r\n",
      "Creating mongors2n1 ... \r\n",
      "Creating mongocfg3  ... \r\n",
      "Creating mongors1n3 ... \r\n",
      "Creating mongors1n1 ... \r\n",
      "Creating mongors2n2 ... \r\n",
      "Creating mongocfg1  ... \r\n",
      "Creating mongors1n2 ... \r\n",
      "\u001B[7Bting mongors2n1 ... \u001B[32mdone\u001B[0m\u001B[8A\u001B[2K\u001B[6A\u001B[2K\u001B[4A\u001B[2K\u001B[5A\u001B[2K\u001B[3A\u001B[2K\u001B[2A\u001B[2K\u001B[1A\u001B[2K\u001B[7A\u001B[2KCreating mongos1    ... \r\n",
      "\u001B[1Bting mongos1    ... \u001B[32mdone\u001B[0m"
     ]
    }
   ],
   "source": [
    "!docker-compose up -d"
   ],
   "metadata": {
    "collapsed": false,
    "pycharm": {
     "name": "#%%\n"
    }
   }
  },
  {
   "cell_type": "markdown",
   "source": [
    "### Инициализация кластера и БД"
   ],
   "metadata": {
    "collapsed": false,
    "pycharm": {
     "name": "#%% md\n"
    }
   }
  },
  {
   "cell_type": "code",
   "execution_count": 2,
   "outputs": [
    {
     "name": "stdout",
     "output_type": "stream",
     "text": [
      "/usr/lib/python3/dist-packages/requests/__init__.py:89: RequestsDependencyWarning: urllib3 (1.26.5) or chardet (3.0.4) doesn't match a supported version!\r\n",
      "  warnings.warn(\"urllib3 ({}) or chardet ({}) doesn't match a supported \"\r\n",
      "MongoDB shell version v5.0.5\r\n",
      "connecting to: mongodb://127.0.0.1:27017/?compressors=disabled&gssapiServiceName=mongodb\r\n",
      "Implicit session: session { \"id\" : UUID(\"fe3e11cc-6d4a-488a-8101-7c143d9f3468\") }\r\n",
      "MongoDB server version: 5.0.5\r\n",
      "================\r\n",
      "Warning: the \"mongo\" shell has been superseded by \"mongosh\",\r\n",
      "which delivers improved usability and compatibility.The \"mongo\" shell has been deprecated and will be removed in\r\n",
      "an upcoming release.\r\n",
      "For installation instructions, see\r\n",
      "https://docs.mongodb.com/mongodb-shell/install/\r\n",
      "================\r\n",
      "{\r\n",
      "\t\"ok\" : 1,\r\n",
      "\t\"$gleStats\" : {\r\n",
      "\t\t\"lastOpTime\" : Timestamp(1640244451, 1),\r\n",
      "\t\t\"electionId\" : ObjectId(\"000000000000000000000000\")\r\n",
      "\t},\r\n",
      "\t\"lastCommittedOpTime\" : Timestamp(1640244451, 1)\r\n",
      "}\r\n",
      "bye\r\n",
      "/usr/lib/python3/dist-packages/requests/__init__.py:89: RequestsDependencyWarning: urllib3 (1.26.5) or chardet (3.0.4) doesn't match a supported version!\r\n",
      "  warnings.warn(\"urllib3 ({}) or chardet ({}) doesn't match a supported \"\r\n",
      "MongoDB shell version v5.0.5\r\n",
      "connecting to: mongodb://127.0.0.1:27017/?compressors=disabled&gssapiServiceName=mongodb\r\n",
      "Implicit session: session { \"id\" : UUID(\"47cbf436-8471-428b-91b4-15099df283b7\") }\r\n",
      "MongoDB server version: 5.0.5\r\n",
      "================\r\n",
      "Warning: the \"mongo\" shell has been superseded by \"mongosh\",\r\n",
      "which delivers improved usability and compatibility.The \"mongo\" shell has been deprecated and will be removed in\r\n",
      "an upcoming release.\r\n",
      "For installation instructions, see\r\n",
      "https://docs.mongodb.com/mongodb-shell/install/\r\n",
      "================\r\n",
      "{ \"ok\" : 1 }\r\n",
      "bye\r\n",
      "/usr/lib/python3/dist-packages/requests/__init__.py:89: RequestsDependencyWarning: urllib3 (1.26.5) or chardet (3.0.4) doesn't match a supported version!\r\n",
      "  warnings.warn(\"urllib3 ({}) or chardet ({}) doesn't match a supported \"\r\n",
      "MongoDB shell version v5.0.5\r\n",
      "connecting to: mongodb://127.0.0.1:27017/?compressors=disabled&gssapiServiceName=mongodb\r\n",
      "Implicit session: session { \"id\" : UUID(\"3409b330-9588-4bdb-884b-eb4e82612bce\") }\r\n",
      "MongoDB server version: 5.0.5\r\n",
      "================\r\n",
      "Warning: the \"mongo\" shell has been superseded by \"mongosh\",\r\n",
      "which delivers improved usability and compatibility.The \"mongo\" shell has been deprecated and will be removed in\r\n",
      "an upcoming release.\r\n",
      "For installation instructions, see\r\n",
      "https://docs.mongodb.com/mongodb-shell/install/\r\n",
      "================\r\n",
      "{\r\n",
      "\t\"ok\" : 1,\r\n",
      "\t\"$clusterTime\" : {\r\n",
      "\t\t\"clusterTime\" : Timestamp(1640244459, 1),\r\n",
      "\t\t\"signature\" : {\r\n",
      "\t\t\t\"hash\" : BinData(0,\"AAAAAAAAAAAAAAAAAAAAAAAAAAA=\"),\r\n",
      "\t\t\t\"keyId\" : NumberLong(0)\r\n",
      "\t\t}\r\n",
      "\t},\r\n",
      "\t\"operationTime\" : Timestamp(1640244459, 1)\r\n",
      "}\r\n",
      "bye\r\n",
      "/usr/lib/python3/dist-packages/requests/__init__.py:89: RequestsDependencyWarning: urllib3 (1.26.5) or chardet (3.0.4) doesn't match a supported version!\r\n",
      "  warnings.warn(\"urllib3 ({}) or chardet ({}) doesn't match a supported \"\r\n",
      "MongoDB shell version v5.0.5\r\n",
      "connecting to: mongodb://127.0.0.1:27017/?compressors=disabled&gssapiServiceName=mongodb\r\n",
      "Implicit session: session { \"id\" : UUID(\"17d569bb-8c50-4def-866c-858060728e96\") }\r\n",
      "MongoDB server version: 5.0.5\r\n",
      "================\r\n",
      "Warning: the \"mongo\" shell has been superseded by \"mongosh\",\r\n",
      "which delivers improved usability and compatibility.The \"mongo\" shell has been deprecated and will be removed in\r\n",
      "an upcoming release.\r\n",
      "For installation instructions, see\r\n",
      "https://docs.mongodb.com/mongodb-shell/install/\r\n",
      "================\r\n",
      "{\r\n",
      "\t\"shardAdded\" : \"mongors1\",\r\n",
      "\t\"ok\" : 1,\r\n",
      "\t\"$clusterTime\" : {\r\n",
      "\t\t\"clusterTime\" : Timestamp(1640244496, 1),\r\n",
      "\t\t\"signature\" : {\r\n",
      "\t\t\t\"hash\" : BinData(0,\"AAAAAAAAAAAAAAAAAAAAAAAAAAA=\"),\r\n",
      "\t\t\t\"keyId\" : NumberLong(0)\r\n",
      "\t\t}\r\n",
      "\t},\r\n",
      "\t\"operationTime\" : Timestamp(1640244496, 1)\r\n",
      "}\r\n",
      "{\r\n",
      "\t\"shardAdded\" : \"mongors2\",\r\n",
      "\t\"ok\" : 1,\r\n",
      "\t\"$clusterTime\" : {\r\n",
      "\t\t\"clusterTime\" : Timestamp(1640244498, 4),\r\n",
      "\t\t\"signature\" : {\r\n",
      "\t\t\t\"hash\" : BinData(0,\"AAAAAAAAAAAAAAAAAAAAAAAAAAA=\"),\r\n",
      "\t\t\t\"keyId\" : NumberLong(0)\r\n",
      "\t\t}\r\n",
      "\t},\r\n",
      "\t\"operationTime\" : Timestamp(1640244498, 4)\r\n",
      "}\r\n",
      "bye\r\n",
      "/usr/lib/python3/dist-packages/requests/__init__.py:89: RequestsDependencyWarning: urllib3 (1.26.5) or chardet (3.0.4) doesn't match a supported version!\r\n",
      "  warnings.warn(\"urllib3 ({}) or chardet ({}) doesn't match a supported \"\r\n",
      "MongoDB shell version v5.0.5\r\n",
      "connecting to: mongodb://127.0.0.1:27017/?compressors=disabled&gssapiServiceName=mongodb\r\n",
      "Implicit session: session { \"id\" : UUID(\"55f7e6b7-4885-49b8-9d27-c3a8d8963ac4\") }\r\n",
      "MongoDB server version: 5.0.5\r\n",
      "================\r\n",
      "Warning: the \"mongo\" shell has been superseded by \"mongosh\",\r\n",
      "which delivers improved usability and compatibility.The \"mongo\" shell has been deprecated and will be removed in\r\n",
      "an upcoming release.\r\n",
      "For installation instructions, see\r\n",
      "https://docs.mongodb.com/mongodb-shell/install/\r\n",
      "================\r\n",
      "{\r\n",
      "\t\"ok\" : 1,\r\n",
      "\t\"$clusterTime\" : {\r\n",
      "\t\t\"clusterTime\" : Timestamp(1640244500, 2),\r\n",
      "\t\t\"signature\" : {\r\n",
      "\t\t\t\"hash\" : BinData(0,\"AAAAAAAAAAAAAAAAAAAAAAAAAAA=\"),\r\n",
      "\t\t\t\"keyId\" : NumberLong(0)\r\n",
      "\t\t}\r\n",
      "\t},\r\n",
      "\t\"operationTime\" : Timestamp(1640244499, 2)\r\n",
      "}\r\n",
      "bye\r\n"
     ]
    }
   ],
   "source": [
    "!docker-compose exec mongocfg1 sh -c \"mongo < /scripts/init_config_server.js\"\n",
    "!docker-compose exec mongors1n1 sh -c \"mongo < /scripts/init_shard_01.js\"\n",
    "!docker-compose exec mongors2n1 sh -c \"mongo  < /scripts/init_shard_02.js\"\n",
    "\n",
    "!sleep 30\n",
    "\n",
    "!docker-compose exec mongos1 sh -c \"mongo < /scripts/init_router.js\"\n",
    "!docker-compose exec mongos1 sh -c \"mongo < /scripts/init_db.js\""
   ],
   "metadata": {
    "collapsed": false,
    "pycharm": {
     "name": "#%%\n"
    }
   }
  },
  {
   "cell_type": "markdown",
   "source": [
    "### Загрузка тестовых данных\n",
    "\n",
    "БД разделена на следующие коллекции:\n",
    "\n",
    "- **movies**\n",
    "    - схема данных:\n",
    "\n",
    "            {\n",
    "                \"_id\": <uuid_string>,\n",
    "                \"ratings_qty\": <integer>,\n",
    "                \"ratings_sum\": <integer>,\n",
    "                \"reviews\": [<uuid_string>, ...]\n",
    "            }\n",
    "    - не шардируется\n",
    "\n",
    "- **users**\n",
    "    - схема данных:\n",
    "\n",
    "            {\n",
    "                \"_id\": <uuid_string>,\n",
    "                \"bookmarks\": [<uuid_string>, ...]\n",
    "            }\n",
    "    - ключ шардирования: **_id**\n",
    "\n",
    "- **movie_ratings**\n",
    "    - схема данных:\n",
    "\n",
    "            {\n",
    "                \"_id\": <uuid_string>,\n",
    "                \"movie_id\": <uuid_string>,\n",
    "                \"user_id\": <uuid_string>,\n",
    "                \"score\": <integer>\n",
    "            }\n",
    "    - ключ шардирования: **user_id**\n",
    "\n",
    "- **reviews**\n",
    "    - схема данных:\n",
    "\n",
    "            {\n",
    "                \"_id\": <uuid_string>,\n",
    "                \"author_id\": <uuid_string>,\n",
    "                \"movie_id\": <uuid_string>,\n",
    "                \"text\": <string>,\n",
    "                \"pub_date\": <datetime>,\n",
    "                \"movie_rating_id\": <uuid_string>,\n",
    "                \"movie_rating_score\": <integer>,\n",
    "                \"review_rating_sum\": <integer>,\n",
    "                \"review_rating_qty\": <integer>,\n",
    "            }\n",
    "    - ключ шардирования: **author_id**"
   ],
   "metadata": {
    "collapsed": false,
    "pycharm": {
     "name": "#%% md\n"
    }
   }
  },
  {
   "cell_type": "code",
   "execution_count": 4,
   "outputs": [],
   "source": [
    "!export PYTHONPATH=\"${PYTHONPATH}:${PWD}/../..\""
   ],
   "metadata": {
    "collapsed": false,
    "pycharm": {
     "name": "#%%\n"
    }
   }
  },
  {
   "cell_type": "code",
   "execution_count": 5,
   "outputs": [],
   "source": [
    "from multiprocessing import Pool\n",
    "\n",
    "import tqdm\n",
    "from pymongo import MongoClient\n",
    "\n",
    "from config import DB_NAME, MONGO_HOST, MONGO_PORT\n",
    "from utils.test_data_gen import (\n",
    "    generate_movie_and_related_documents,\n",
    "    generate_user_documents,\n",
    "    movie_ids\n",
    ")\n",
    "\n",
    "\n",
    "def upload_users_documents():\n",
    "    client = MongoClient(MONGO_HOST, MONGO_PORT)\n",
    "    db = client.get_database(DB_NAME)\n",
    "\n",
    "    collection = db.get_collection('users')\n",
    "    collection.insert_many(generate_user_documents(), ordered=False)\n",
    "\n",
    "\n",
    "def upload_movie_ratings_and_reviews(movie_id):\n",
    "    # https://pymongo.readthedocs.io/en/stable/faq.html?highlight=never%20do%20this#using-pymongo-with-multiprocessing\n",
    "    client = MongoClient(MONGO_HOST, MONGO_PORT)\n",
    "    db = client.get_database(DB_NAME)\n",
    "\n",
    "    movie, ratings, reviews = generate_movie_and_related_documents(movie_id)\n",
    "\n",
    "    movies_coll = db.get_collection('movies')\n",
    "    movies_coll.insert_one(movie)\n",
    "\n",
    "    if ratings:\n",
    "        ratings_coll = db.get_collection('movie_ratings')\n",
    "        ratings_coll.insert_many(ratings, ordered=False)\n",
    "\n",
    "    if reviews:\n",
    "        reviews_coll = db.get_collection('reviews')\n",
    "        reviews_coll.insert_many(reviews, ordered=False)\n",
    "\n",
    "    client.close()"
   ],
   "metadata": {
    "collapsed": false,
    "pycharm": {
     "name": "#%%\n"
    }
   }
  },
  {
   "cell_type": "code",
   "execution_count": 6,
   "outputs": [
    {
     "name": "stderr",
     "output_type": "stream",
     "text": [
      "100%|██████████| 20000/20000 [1:50:26<00:00,  3.02it/s]  \n"
     ]
    }
   ],
   "source": [
    "upload_users_documents()\n",
    "\n",
    "with Pool() as pool:\n",
    "    r = list(tqdm.tqdm(\n",
    "        pool.imap(upload_movie_ratings_and_reviews, movie_ids),\n",
    "        total=len(movie_ids)\n",
    "    ))"
   ],
   "metadata": {
    "collapsed": false,
    "pycharm": {
     "name": "#%%\n"
    }
   }
  },
  {
   "cell_type": "markdown",
   "source": [
    "### Выполнение тестовых запросов"
   ],
   "metadata": {
    "collapsed": false,
    "pycharm": {
     "name": "#%% md\n"
    }
   }
  },
  {
   "cell_type": "markdown",
   "source": [
    "#### Чтение"
   ],
   "metadata": {
    "collapsed": false,
    "pycharm": {
     "name": "#%% md\n"
    }
   }
  },
  {
   "cell_type": "code",
   "execution_count": 11,
   "outputs": [
    {
     "name": "stdout",
     "output_type": "stream",
     "text": [
      "Average execution time for get_movie_reviews_sort_pub_date (over 10 runs): 0.0920 seconds\n",
      "Execution result:\n",
      " [{'_id': 'b409f231-e929-4bee-b5fe-ea3a9723e714', 'author_id': '229cc0e3-fe5a-4f4c-8926-1beb9eb4e286', 'movie_id': 'f2088dce-cf73-4638-b44c-c18516f5ff12', 'pub_date': datetime.datetime(2021, 11, 24, 7, 36, 5), 'text': 'Test review for f2088dce-cf73-4638-b44c-c18516f5ff12 by 229cc0e3-fe5a-4f4c-8926-1beb9eb4e286', 'movie_rating_id': '4c96dd2e-bcd5-4405-a4b0-c8ab2cd40e98', 'movie_rating_score': 3, 'review_rating_qty': 8, 'review_rating_sum': 37}, {'_id': '8dd8bf29-557a-412b-b01e-a6c5c849dce7', 'author_id': 'd7dba8f9-9e30-42ca-adb3-52b42de619d7', 'movie_id': 'f2088dce-cf73-4638-b44c-c18516f5ff12', 'pub_date': datetime.datetime(2021, 9, 1, 13, 56, 59), 'text': 'Test review for f2088dce-cf73-4638-b44c-c18516f5ff12 by d7dba8f9-9e30-42ca-adb3-52b42de619d7', 'movie_rating_id': '2cffd421-2844-4271-8f41-41a9b26d89a0', 'movie_rating_score': 5, 'review_rating_qty': 20, 'review_rating_sum': 108}, {'_id': 'fa85918a-d2e0-4343-81ed-861ae8d481d8', 'author_id': 'a42621ae-a725-46e6-89bb-5ffb3e8c9c53', 'movie_id': 'f2088dce-cf73-4638-b44c-c18516f5ff12', 'pub_date': datetime.datetime(2021, 8, 29, 1, 1, 40), 'text': 'Test review for f2088dce-cf73-4638-b44c-c18516f5ff12 by a42621ae-a725-46e6-89bb-5ffb3e8c9c53', 'movie_rating_id': '9ca08800-505a-40f7-b310-d1cb6e559c80', 'movie_rating_score': 4, 'review_rating_qty': 11, 'review_rating_sum': 79}, {'_id': '8d79fd26-bc56-463b-9ebd-cd31edb5330f', 'author_id': '0f520b4a-7fe4-429e-8614-02cbf16ac564', 'movie_id': 'f2088dce-cf73-4638-b44c-c18516f5ff12', 'pub_date': datetime.datetime(2021, 4, 2, 11, 46, 15), 'text': 'Test review for f2088dce-cf73-4638-b44c-c18516f5ff12 by 0f520b4a-7fe4-429e-8614-02cbf16ac564', 'movie_rating_id': '547fa35a-8a3e-438f-93c4-9f816778e372', 'movie_rating_score': 7, 'review_rating_qty': 1, 'review_rating_sum': 8}, {'_id': '5cde53c9-da95-4f08-a8c6-2e043b29d98b', 'author_id': '7978b536-2e20-4923-9265-2d25abb14cae', 'movie_id': 'f2088dce-cf73-4638-b44c-c18516f5ff12', 'pub_date': datetime.datetime(2021, 2, 22, 18, 37, 52), 'text': 'Test review for f2088dce-cf73-4638-b44c-c18516f5ff12 by 7978b536-2e20-4923-9265-2d25abb14cae', 'movie_rating_id': '0aea6e74-0ebd-4751-9efb-1d318e50555f', 'movie_rating_score': 2, 'review_rating_qty': 20, 'review_rating_sum': 95}, {'_id': 'c41693be-fbea-4e48-b5a8-5822ad0a16da', 'author_id': 'c7ad53a9-a9f4-44b4-8933-8c61dcecb967', 'movie_id': 'f2088dce-cf73-4638-b44c-c18516f5ff12', 'pub_date': datetime.datetime(2021, 1, 29, 3, 0, 16), 'text': 'Test review for f2088dce-cf73-4638-b44c-c18516f5ff12 by c7ad53a9-a9f4-44b4-8933-8c61dcecb967', 'movie_rating_id': '2ddd9081-3221-4b96-9e27-0a0556131cdd', 'movie_rating_score': 10, 'review_rating_qty': 14, 'review_rating_sum': 83}, {'_id': '717d87f5-45a6-4f4b-8d55-461faec91132', 'author_id': '98f05f19-9bc1-4a3f-87d4-68d254bc28ea', 'movie_id': 'f2088dce-cf73-4638-b44c-c18516f5ff12', 'pub_date': datetime.datetime(2020, 11, 18, 0, 5, 11), 'text': 'Test review for f2088dce-cf73-4638-b44c-c18516f5ff12 by 98f05f19-9bc1-4a3f-87d4-68d254bc28ea', 'movie_rating_id': '47b59653-b845-4854-9836-1bf5dc4ca2c9', 'movie_rating_score': 1, 'review_rating_qty': 2, 'review_rating_sum': 12}, {'_id': '2c4f8729-4bff-4195-aa72-018ed85a9084', 'author_id': '86e965fa-d569-4958-9c0c-2174e8e4694d', 'movie_id': 'f2088dce-cf73-4638-b44c-c18516f5ff12', 'pub_date': datetime.datetime(2020, 11, 3, 1, 39, 56), 'text': 'Test review for f2088dce-cf73-4638-b44c-c18516f5ff12 by 86e965fa-d569-4958-9c0c-2174e8e4694d', 'movie_rating_id': '6613d86f-feb0-47ac-9732-d457f252edd2', 'movie_rating_score': 1, 'review_rating_qty': 8, 'review_rating_sum': 44}, {'_id': 'ff8ff4ef-9245-468c-a853-fdd66adc1c49', 'author_id': '141cc78e-1c48-4a16-bf32-45d4799de67e', 'movie_id': 'f2088dce-cf73-4638-b44c-c18516f5ff12', 'pub_date': datetime.datetime(2020, 10, 13, 3, 8, 11), 'text': 'Test review for f2088dce-cf73-4638-b44c-c18516f5ff12 by 141cc78e-1c48-4a16-bf32-45d4799de67e', 'movie_rating_id': '3217729a-4f22-4d95-a8ab-47cf94dc6e8f', 'movie_rating_score': 6, 'review_rating_qty': 15, 'review_rating_sum': 85}, {'_id': '1285e915-09c4-44a9-bb72-59642ce64299', 'author_id': '823683ad-b2b0-4f6c-a5b0-a7669bc770be', 'movie_id': 'f2088dce-cf73-4638-b44c-c18516f5ff12', 'pub_date': datetime.datetime(2020, 5, 14, 8, 44, 26), 'text': 'Test review for f2088dce-cf73-4638-b44c-c18516f5ff12 by 823683ad-b2b0-4f6c-a5b0-a7669bc770be', 'movie_rating_id': '261e3942-572d-4d00-aecd-cc2e7cb892cf', 'movie_rating_score': 4, 'review_rating_qty': 2, 'review_rating_sum': 8}, {'_id': '70ab51eb-7d1a-47d0-83a7-c3ea7872f928', 'author_id': 'fb2403da-5ca2-4377-bd58-1e241f5ab538', 'movie_id': 'f2088dce-cf73-4638-b44c-c18516f5ff12', 'pub_date': datetime.datetime(2020, 2, 22, 2, 26, 25), 'text': 'Test review for f2088dce-cf73-4638-b44c-c18516f5ff12 by fb2403da-5ca2-4377-bd58-1e241f5ab538', 'movie_rating_id': 'c0cf463e-03c9-40cd-b7f5-307f2e1e441e', 'movie_rating_score': 9, 'review_rating_qty': 1, 'review_rating_sum': 8}, {'_id': '699bbb22-dc99-4a6d-aa1c-9ffda0d73140', 'author_id': '06bd86d7-048d-443f-8407-5c2f95785882', 'movie_id': 'f2088dce-cf73-4638-b44c-c18516f5ff12', 'pub_date': datetime.datetime(2020, 2, 2, 7, 10, 35), 'text': 'Test review for f2088dce-cf73-4638-b44c-c18516f5ff12 by 06bd86d7-048d-443f-8407-5c2f95785882', 'movie_rating_id': '7a946571-d474-45fe-8ee1-8e25e3149de7', 'movie_rating_score': 3, 'review_rating_qty': 17, 'review_rating_sum': 75}, {'_id': '353dd823-c88a-4c36-a591-33550191fb9b', 'author_id': 'b9984f8e-e561-45ac-8057-2926be875aae', 'movie_id': 'f2088dce-cf73-4638-b44c-c18516f5ff12', 'pub_date': datetime.datetime(2020, 1, 3, 20, 18, 22), 'text': 'Test review for f2088dce-cf73-4638-b44c-c18516f5ff12 by b9984f8e-e561-45ac-8057-2926be875aae', 'movie_rating_id': '4da9bf32-9b97-4018-9ef9-6172ea30f7ed', 'movie_rating_score': 10, 'review_rating_qty': 5, 'review_rating_sum': 23}, {'_id': '1ea943cc-5497-40f8-953a-c5fcb73d1b99', 'author_id': '1f4460d7-063e-42ea-b27e-cd36e0fbf8db', 'movie_id': 'f2088dce-cf73-4638-b44c-c18516f5ff12', 'pub_date': datetime.datetime(2019, 12, 30, 20, 24, 20), 'text': 'Test review for f2088dce-cf73-4638-b44c-c18516f5ff12 by 1f4460d7-063e-42ea-b27e-cd36e0fbf8db', 'movie_rating_id': 'b0abccfd-e535-4f8b-9799-98f2237cec3c', 'movie_rating_score': 1, 'review_rating_qty': 10, 'review_rating_sum': 55}, {'_id': '65c0e7e9-a936-4f9c-8111-6523233d7ea9', 'author_id': 'a76a3e09-9c37-492c-8f08-4d324d2d0b93', 'movie_id': 'f2088dce-cf73-4638-b44c-c18516f5ff12', 'pub_date': datetime.datetime(2019, 10, 6, 8, 25, 33), 'text': 'Test review for f2088dce-cf73-4638-b44c-c18516f5ff12 by a76a3e09-9c37-492c-8f08-4d324d2d0b93', 'movie_rating_id': '489a1451-c831-4a36-b49c-c71c6368173b', 'movie_rating_score': 1, 'review_rating_qty': 9, 'review_rating_sum': 56}, {'_id': 'c614eeea-d022-4c4f-a2c0-e566efb3eefe', 'author_id': '4a21dbd8-b134-4dab-ba7f-fa381e59114f', 'movie_id': 'f2088dce-cf73-4638-b44c-c18516f5ff12', 'pub_date': datetime.datetime(2019, 8, 22, 7, 36, 10), 'text': 'Test review for f2088dce-cf73-4638-b44c-c18516f5ff12 by 4a21dbd8-b134-4dab-ba7f-fa381e59114f', 'movie_rating_id': 'e577fefd-7fc7-4c76-8365-087caa5920a0', 'movie_rating_score': 4, 'review_rating_qty': 16, 'review_rating_sum': 93}, {'_id': '63974228-52b1-4d8a-ba6a-b48736d229a7', 'author_id': 'c4c68ab0-1dc3-48e8-b730-a841557ce80f', 'movie_id': 'f2088dce-cf73-4638-b44c-c18516f5ff12', 'pub_date': datetime.datetime(2019, 8, 18, 18, 16, 45), 'text': 'Test review for f2088dce-cf73-4638-b44c-c18516f5ff12 by c4c68ab0-1dc3-48e8-b730-a841557ce80f', 'movie_rating_id': 'f6f5df34-c81a-4b3d-b0b3-df8329f45332', 'movie_rating_score': 6, 'review_rating_qty': 7, 'review_rating_sum': 36}, {'_id': '625d497f-f890-45fb-bee9-1a61f1260770', 'author_id': '0cebcc6c-205f-42a1-ae9f-03056cbd6e59', 'movie_id': 'f2088dce-cf73-4638-b44c-c18516f5ff12', 'pub_date': datetime.datetime(2019, 4, 21, 8, 31, 29), 'text': 'Test review for f2088dce-cf73-4638-b44c-c18516f5ff12 by 0cebcc6c-205f-42a1-ae9f-03056cbd6e59', 'movie_rating_id': '3ec27470-e5ff-4582-8769-af8951bfc535', 'movie_rating_score': 7, 'review_rating_qty': 13, 'review_rating_sum': 82}, {'_id': '0401606b-927a-4cb0-9cff-4f956ac13e47', 'author_id': 'd8909b56-edc7-44f8-bfee-c77f053908ad', 'movie_id': 'f2088dce-cf73-4638-b44c-c18516f5ff12', 'pub_date': datetime.datetime(2019, 1, 17, 2, 42, 52), 'text': 'Test review for f2088dce-cf73-4638-b44c-c18516f5ff12 by d8909b56-edc7-44f8-bfee-c77f053908ad', 'movie_rating_id': 'f2369b5b-c375-4c95-bdbd-044f6720c244', 'movie_rating_score': 2, 'review_rating_qty': 7, 'review_rating_sum': 31}]\n",
      "\n",
      "Average execution time for get_movie_reviews_sort_movie_rating (over 10 runs): 0.0027 seconds\n",
      "Execution result:\n",
      " [{'_id': 'dc5f9514-233e-4400-937f-6528886e277b', 'author_id': 'e36ffae4-41b8-40ca-8a89-33e02c88768c', 'movie_id': 'b921b589-4bb4-42f4-b2a7-301be26c2c8f', 'pub_date': datetime.datetime(2020, 7, 5, 9, 34, 27), 'text': 'Test review for b921b589-4bb4-42f4-b2a7-301be26c2c8f by e36ffae4-41b8-40ca-8a89-33e02c88768c', 'movie_rating_id': '99a22316-af12-4551-9c79-52efc9a92040', 'movie_rating_score': 10, 'review_rating_qty': 1, 'review_rating_sum': 10}, {'_id': '2b2971d4-80d3-4576-a75a-53ed00b2b5b4', 'author_id': 'a80eb67e-536d-49d2-9203-7ca9da892911', 'movie_id': 'b921b589-4bb4-42f4-b2a7-301be26c2c8f', 'pub_date': datetime.datetime(2020, 1, 30, 7, 56, 12), 'text': 'Test review for b921b589-4bb4-42f4-b2a7-301be26c2c8f by a80eb67e-536d-49d2-9203-7ca9da892911', 'movie_rating_id': '22d6a570-e791-4d38-b904-5a90caa16282', 'movie_rating_score': 9, 'review_rating_qty': 19, 'review_rating_sum': 103}, {'_id': '46f4059f-a3b3-43b1-a4a2-7f5a16a59575', 'author_id': '24bc5a07-a3dd-4f7b-ae9f-a08df1e938b0', 'movie_id': 'b921b589-4bb4-42f4-b2a7-301be26c2c8f', 'pub_date': datetime.datetime(2019, 5, 18, 21, 31, 44), 'text': 'Test review for b921b589-4bb4-42f4-b2a7-301be26c2c8f by 24bc5a07-a3dd-4f7b-ae9f-a08df1e938b0', 'movie_rating_id': 'e51611ff-3c1e-466e-b2ac-d94056a67387', 'movie_rating_score': 8, 'review_rating_qty': 17, 'review_rating_sum': 100}, {'_id': '99d1a6d2-ed62-4a1c-a854-962be06ea2b2', 'author_id': '8b27e9fd-58e0-4f17-a640-e842299501ed', 'movie_id': 'b921b589-4bb4-42f4-b2a7-301be26c2c8f', 'pub_date': datetime.datetime(2021, 4, 30, 14, 41, 52), 'text': 'Test review for b921b589-4bb4-42f4-b2a7-301be26c2c8f by 8b27e9fd-58e0-4f17-a640-e842299501ed', 'movie_rating_id': 'fe873167-32c3-4939-993a-8e6565aad1c0', 'movie_rating_score': 8, 'review_rating_qty': 17, 'review_rating_sum': 81}, {'_id': 'de2e8456-f5da-491b-af3f-577ffa98d6b5', 'author_id': '4c80ba0c-1c34-424f-99e7-f8f7faf86620', 'movie_id': 'b921b589-4bb4-42f4-b2a7-301be26c2c8f', 'pub_date': datetime.datetime(2020, 12, 17, 12, 54, 29), 'text': 'Test review for b921b589-4bb4-42f4-b2a7-301be26c2c8f by 4c80ba0c-1c34-424f-99e7-f8f7faf86620', 'movie_rating_id': 'c713719d-3a21-4113-b620-a45f2e3cd842', 'movie_rating_score': 7, 'review_rating_qty': 6, 'review_rating_sum': 21}, {'_id': '95bba492-f770-48c1-aabd-dd38de309726', 'author_id': '5c31486d-9369-4ea5-82c7-abb3aeb2868e', 'movie_id': 'b921b589-4bb4-42f4-b2a7-301be26c2c8f', 'pub_date': datetime.datetime(2019, 3, 15, 0, 17, 17), 'text': 'Test review for b921b589-4bb4-42f4-b2a7-301be26c2c8f by 5c31486d-9369-4ea5-82c7-abb3aeb2868e', 'movie_rating_id': '4c24e0f2-389f-44a4-a57b-05d0d598a3d6', 'movie_rating_score': 7, 'review_rating_qty': 1, 'review_rating_sum': 4}, {'_id': '051eb702-0959-4800-8d03-d2c4c86f3545', 'author_id': '45e87c84-4d0a-405f-b02e-80453479708d', 'movie_id': 'b921b589-4bb4-42f4-b2a7-301be26c2c8f', 'pub_date': datetime.datetime(2020, 1, 17, 18, 36, 30), 'text': 'Test review for b921b589-4bb4-42f4-b2a7-301be26c2c8f by 45e87c84-4d0a-405f-b02e-80453479708d', 'movie_rating_id': '0a2b10ab-891a-4b98-9fde-8cc7b45b4b9b', 'movie_rating_score': 7, 'review_rating_qty': 8, 'review_rating_sum': 53}, {'_id': '3e9e1482-bcfa-4d69-a740-ae8cb6a2f8f7', 'author_id': '31f81e9f-d724-4002-849e-5ac124dd312b', 'movie_id': 'b921b589-4bb4-42f4-b2a7-301be26c2c8f', 'pub_date': datetime.datetime(2019, 5, 1, 21, 13, 13), 'text': 'Test review for b921b589-4bb4-42f4-b2a7-301be26c2c8f by 31f81e9f-d724-4002-849e-5ac124dd312b', 'movie_rating_id': 'd4c07a32-035b-4ad0-a2c2-d5be935669df', 'movie_rating_score': 5, 'review_rating_qty': 20, 'review_rating_sum': 133}, {'_id': '28e9705e-af53-446b-959e-3a70299a4b82', 'author_id': 'aa3e43e0-235a-4530-9f1a-fc9c6d6abe0a', 'movie_id': 'b921b589-4bb4-42f4-b2a7-301be26c2c8f', 'pub_date': datetime.datetime(2021, 11, 25, 5, 21, 50), 'text': 'Test review for b921b589-4bb4-42f4-b2a7-301be26c2c8f by aa3e43e0-235a-4530-9f1a-fc9c6d6abe0a', 'movie_rating_id': '8caf857f-01b5-4843-a197-6760ff44c02d', 'movie_rating_score': 2, 'review_rating_qty': 18, 'review_rating_sum': 84}, {'_id': '61248c92-c97a-4f00-9461-b7e8a71833ac', 'author_id': '702ed321-c17a-441e-9cbc-935b7e45ab83', 'movie_id': 'b921b589-4bb4-42f4-b2a7-301be26c2c8f', 'pub_date': datetime.datetime(2019, 9, 17, 19, 47, 57), 'text': 'Test review for b921b589-4bb4-42f4-b2a7-301be26c2c8f by 702ed321-c17a-441e-9cbc-935b7e45ab83', 'movie_rating_id': 'c2eeb255-bfc8-4812-896f-4d94e978794b', 'movie_rating_score': 2, 'review_rating_qty': 2, 'review_rating_sum': 10}, {'_id': 'bcfe30c2-9fa9-47be-902f-9000ef4f0ba9', 'author_id': '7230f438-2165-4644-8761-5e2c7ca4268d', 'movie_id': 'b921b589-4bb4-42f4-b2a7-301be26c2c8f', 'pub_date': datetime.datetime(2020, 12, 31, 22, 57, 41), 'text': 'Test review for b921b589-4bb4-42f4-b2a7-301be26c2c8f by 7230f438-2165-4644-8761-5e2c7ca4268d', 'movie_rating_id': 'ad3575fc-e46c-4bc7-8c54-e6b8a3796be5', 'movie_rating_score': 1, 'review_rating_qty': 10, 'review_rating_sum': 46}]\n",
      "\n",
      "Average execution time for get_users_liked_movies (over 10 runs): 0.0363 seconds\n",
      "Execution result:\n",
      " ['6531d3dd-5f4e-4e73-90e9-663094163acf', 'dc4a6e9e-4c4d-4c89-beff-5c1552b29f5d', '25e51919-b770-48b8-bb7c-a774d3447288', '198fda2a-3f97-41a0-8b56-d91a695e9e39']\n",
      "\n",
      "Average execution time for get_movie_ratings_count (over 10 runs): 0.0016 seconds\n",
      "Execution result:\n",
      " 5\n",
      "\n",
      "Average execution time for get_movie_good_ratings_count (over 10 runs): 0.0387 seconds\n",
      "Execution result:\n",
      " 14\n",
      "\n",
      "Average execution time for get_avg_movie_rating (over 10 runs): 0.0032 seconds\n",
      "Execution result:\n",
      " 5.1454545454545455\n",
      "\n"
     ]
    }
   ],
   "source": [
    "from utils.test_scenarios import READ_SCENARIOS\n",
    "\n",
    "for scenario in READ_SCENARIOS:\n",
    "    func = scenario.get('func')\n",
    "    kwargs = scenario.get('kwargs')\n",
    "    func(**kwargs)"
   ],
   "metadata": {
    "collapsed": false,
    "pycharm": {
     "name": "#%%\n"
    }
   }
  },
  {
   "cell_type": "markdown",
   "source": [
    "#### Запись"
   ],
   "metadata": {
    "collapsed": false,
    "pycharm": {
     "name": "#%% md\n"
    }
   }
  },
  {
   "cell_type": "code",
   "execution_count": 12,
   "outputs": [
    {
     "name": "stdout",
     "output_type": "stream",
     "text": [
      "Average execution time for add_movie_rating (over 10 runs): 0.1124 seconds\n",
      "Execution result:\n",
      " Inserted rating with id: 360efcf1-ce75-47b1-8760-540b4fc4dac9\n",
      "\n",
      "Average execution time for add_review (over 10 runs): 0.1330 seconds\n",
      "Execution result:\n",
      " Added movie_review with id: 023e57b5-4984-471d-86b5-ff9d9aa2106c\n",
      "\n",
      "Average execution time for add_bookmark (over 10 runs): 0.0232 seconds\n",
      "Execution result:\n",
      " Added bookmark for movie: e86bf293-ec9e-4989-b161-488633facb4b to user: 4585147c-0f63-4461-b388-bf9622e9d3cc\n",
      "\n"
     ]
    }
   ],
   "source": [
    "from utils.test_scenarios import WRITE_SCENARIOS\n",
    "\n",
    "for scenario in WRITE_SCENARIOS:\n",
    "    func = scenario.get('func')\n",
    "    kwargs = scenario.get('kwargs')\n",
    "    func(**kwargs)"
   ],
   "metadata": {
    "collapsed": false,
    "pycharm": {
     "name": "#%%\n"
    }
   }
  },
  {
   "cell_type": "markdown",
   "source": [
    "### Вывод\n",
    "\n",
    "Mongo удовлетворяет указанным требованиям."
   ],
   "metadata": {
    "collapsed": false,
    "pycharm": {
     "name": "#%% md\n"
    }
   }
  },
  {
   "cell_type": "markdown",
   "source": [
    "### Остановка"
   ],
   "metadata": {
    "collapsed": false,
    "pycharm": {
     "name": "#%% md\n"
    }
   }
  },
  {
   "cell_type": "code",
   "execution_count": 13,
   "outputs": [
    {
     "name": "stdout",
     "output_type": "stream",
     "text": [
      "/usr/lib/python3/dist-packages/requests/__init__.py:89: RequestsDependencyWarning: urllib3 (1.26.5) or chardet (3.0.4) doesn't match a supported version!\r\n",
      "  warnings.warn(\"urllib3 ({}) or chardet ({}) doesn't match a supported \"\r\n",
      "Stopping mongos1    ... \r\n",
      "Stopping mongocfg1  ... \r\n",
      "Stopping mongors1n2 ... \r\n",
      "Stopping mongors1n3 ... \r\n",
      "Stopping mongors1n1 ... \r\n",
      "Stopping mongors2n2 ... \r\n",
      "Stopping mongors2n1 ... \r\n",
      "Stopping mongocfg3  ... \r\n",
      "Stopping mongocfg2  ... \r\n",
      "Stopping mongors2n3 ... \r\n",
      "\u001B[7Bping mongors1n3 ... \u001B[32mdone\u001B[0m\u001B[6A\u001B[2K\u001B[9A\u001B[2K\u001B[3A\u001B[2K\u001B[8A\u001B[2K\u001B[4A\u001B[2K\u001B[5A\u001B[2K\u001B[1A\u001B[2K\u001B[2A\u001B[2K\u001B[7A\u001B[2KRemoving mongos1    ... \r\n",
      "Removing mongocfg1  ... \r\n",
      "Removing mongors1n2 ... \r\n",
      "Removing mongors1n3 ... \r\n",
      "Removing mongors1n1 ... \r\n",
      "Removing mongors2n2 ... \r\n",
      "Removing mongors2n1 ... \r\n",
      "Removing mongocfg3  ... \r\n",
      "Removing mongocfg2  ... \r\n",
      "Removing mongors2n3 ... \r\n",
      "\u001B[10BRemoving network mongo_default0m\u001B[2A\u001B[2K\u001B[1A\u001B[2K\u001B[9A\u001B[2K\u001B[6A\u001B[2K\u001B[4A\u001B[2K\r\n",
      "Removing volume mongo_ugc_mongo_cluster_data1\r\n",
      "Removing volume mongo_ugc_mongo_cluster_data2\r\n",
      "Removing volume mongo_ugc_mongo_cluster_data3\r\n",
      "Removing volume mongo_ugc_mongo_cluster_data4\r\n",
      "Removing volume mongo_ugc_mongo_cluster_data5\r\n",
      "Removing volume mongo_ugc_mongo_cluster_data6\r\n",
      "Removing volume mongo_ugc_mongo_cluster_config1\r\n",
      "Removing volume mongo_ugc_mongo_cluster_config2\r\n",
      "Removing volume mongo_ugc_mongo_cluster_config3\r\n"
     ]
    }
   ],
   "source": [
    "!docker-compose down -v"
   ],
   "metadata": {
    "collapsed": false,
    "pycharm": {
     "name": "#%%\n"
    }
   }
  },
  {
   "cell_type": "code",
   "execution_count": null,
   "outputs": [],
   "source": [],
   "metadata": {
    "collapsed": false,
    "pycharm": {
     "name": "#%%\n"
    }
   }
  }
 ],
 "metadata": {
  "kernelspec": {
   "display_name": "Python 3",
   "language": "python",
   "name": "python3"
  },
  "language_info": {
   "codemirror_mode": {
    "name": "ipython",
    "version": 2
   },
   "file_extension": ".py",
   "mimetype": "text/x-python",
   "name": "python",
   "nbconvert_exporter": "python",
   "pygments_lexer": "ipython2",
   "version": "2.7.6"
  }
 },
 "nbformat": 4,
 "nbformat_minor": 0
}