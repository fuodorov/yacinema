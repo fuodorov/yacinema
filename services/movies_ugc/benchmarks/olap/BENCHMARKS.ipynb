{
 "cells": [
  {
   "cell_type": "markdown",
   "metadata": {
    "collapsed": true,
    "pycharm": {
     "name": "#%% md\n"
    }
   },
   "source": [
    "## Тестирование производительности OLAP-хранилищ Clickhouse и Vertica\n",
    "\n",
    "В рамках исследования были рассмотрены Clickhouse и Vertica."
   ]
  },
  {
   "cell_type": "markdown",
   "source": [
    "### Запуск"
   ],
   "metadata": {
    "collapsed": false,
    "pycharm": {
     "name": "#%% md\n"
    }
   }
  },
  {
   "cell_type": "code",
   "execution_count": 40,
   "outputs": [
    {
     "name": "stdout",
     "output_type": "stream",
     "text": [
      "/usr/lib/python3/dist-packages/requests/__init__.py:89: RequestsDependencyWarning: urllib3 (1.26.5) or chardet (3.0.4) doesn't match a supported version!\r\n",
      "  warnings.warn(\"urllib3 ({}) or chardet ({}) doesn't match a supported \"\r\n",
      "Creating network \"olap_default\" with the default driver\r\n",
      "Creating volume \"olap_ugc_bench_clickhouse_data\" with default driver\r\n",
      "Creating volume \"olap_ugc_bench_vertica_data\" with default driver\r\n",
      "Creating olap_clickhouse_1 ... \r\n",
      "Creating olap_vertica_1    ... \r\n",
      "\u001B[2Bting olap_clickhouse_1 ... \u001B[32mdone\u001B[0m\u001B[2A\u001B[2K"
     ]
    }
   ],
   "source": [
    "!docker-compose up -d"
   ],
   "metadata": {
    "collapsed": false,
    "pycharm": {
     "name": "#%%\n"
    }
   }
  },
  {
   "cell_type": "markdown",
   "source": [
    "### Загрузка тестовых данных\n",
    "\n",
    "Структура тестовой таблицы\n",
    "\n",
    "\n",
    "| ----------- | ----------- |\n",
    "| id      | UUID       |\n",
    "| user_id   | UUID        |\n",
    "| movie_id   | UUID        |\n",
    "| viewed_frame   | Int        |"
   ],
   "metadata": {
    "collapsed": false,
    "pycharm": {
     "name": "#%% md\n"
    }
   }
  },
  {
   "cell_type": "code",
   "execution_count": 41,
   "outputs": [],
   "source": [
    "!export PYTHONPATH=\"${PYTHONPATH}:${PWD}/../..\""
   ],
   "metadata": {
    "collapsed": false,
    "pycharm": {
     "name": "#%%\n"
    }
   }
  },
  {
   "cell_type": "markdown",
   "source": [
    "#### Загрузка тестовых данных в Clickhouse"
   ],
   "metadata": {
    "collapsed": false,
    "pycharm": {
     "name": "#%% md\n"
    }
   }
  },
  {
   "cell_type": "code",
   "execution_count": 42,
   "outputs": [],
   "source": [
    "from multiprocessing import Pool\n",
    "\n",
    "import tqdm as tqdm\n",
    "from clickhouse_driver import Client\n",
    "\n",
    "from utils.fake_data_gen import Row, generate_fake_data\n",
    "from config import CLICKHOUSE_HOST, NUMBER_OF_BATCHES, UPLOAD_BATCH_SIZE\n",
    "\n",
    "client = Client(CLICKHOUSE_HOST)\n",
    "\n",
    "\n",
    "def upload_batch(batch):\n",
    "    columns = ', '.join(Row._fields)\n",
    "    client.execute(\n",
    "        f'INSERT INTO views ({columns}) VALUES',\n",
    "        batch\n",
    "    )"
   ],
   "metadata": {
    "collapsed": false,
    "pycharm": {
     "name": "#%%\n"
    }
   }
  },
  {
   "cell_type": "code",
   "execution_count": 43,
   "outputs": [
    {
     "name": "stderr",
     "output_type": "stream",
     "text": [
      "100%|██████████| 1000/1000 [00:49<00:00, 20.08it/s]\n"
     ]
    }
   ],
   "source": [
    "test_data = generate_fake_data(UPLOAD_BATCH_SIZE, NUMBER_OF_BATCHES)\n",
    "\n",
    "with Pool() as pool:\n",
    "    r = list(tqdm.tqdm(\n",
    "        pool.imap(upload_batch, test_data),\n",
    "        total=NUMBER_OF_BATCHES\n",
    "    ))"
   ],
   "metadata": {
    "collapsed": false,
    "pycharm": {
     "name": "#%%\n"
    }
   }
  },
  {
   "cell_type": "markdown",
   "source": [
    "#### Загрузка тестовых данных в Vertica"
   ],
   "metadata": {
    "collapsed": false,
    "pycharm": {
     "name": "#%% md\n"
    }
   }
  },
  {
   "cell_type": "code",
   "source": [
    "from multiprocessing import Pool\n",
    "\n",
    "import tqdm\n",
    "import vertica_python\n",
    "\n",
    "from utils.fake_data_gen import Row, generate_fake_data\n",
    "from config import NUMBER_OF_BATCHES, UPLOAD_BATCH_SIZE, VERTICA_CONNECTION_PARAMS\n",
    "\n",
    "\n",
    "def upload_batch(batch):\n",
    "    with vertica_python.connect(**VERTICA_CONNECTION_PARAMS) as connection:\n",
    "        columns = ', '.join(Row._fields)\n",
    "        placeholders = ', '.join(['%s'] * len(Row._fields))\n",
    "        cursor = connection.cursor()\n",
    "        cursor.executemany(\n",
    "            f'INSERT INTO views ({columns}) VALUES ({placeholders})',\n",
    "            batch\n",
    "        )"
   ],
   "metadata": {
    "collapsed": false,
    "pycharm": {
     "name": "#%%\n"
    }
   },
   "execution_count": 44,
   "outputs": []
  },
  {
   "cell_type": "code",
   "execution_count": 45,
   "outputs": [
    {
     "name": "stderr",
     "output_type": "stream",
     "text": [
      "100%|██████████| 1000/1000 [01:35<00:00, 10.51it/s]\n"
     ]
    }
   ],
   "source": [
    "test_data = generate_fake_data(UPLOAD_BATCH_SIZE, NUMBER_OF_BATCHES)\n",
    "\n",
    "with Pool() as pool:\n",
    "    r = list(tqdm.tqdm(\n",
    "        pool.imap(upload_batch, test_data),\n",
    "        total=NUMBER_OF_BATCHES\n",
    "    ))"
   ],
   "metadata": {
    "collapsed": false,
    "pycharm": {
     "name": "#%%\n"
    }
   }
  },
  {
   "cell_type": "markdown",
   "source": [
    "### Выполнение тестовых запросов"
   ],
   "metadata": {
    "collapsed": false,
    "pycharm": {
     "name": "#%% md\n"
    }
   }
  },
  {
   "cell_type": "markdown",
   "source": [
    "Использовались следующие тестовые запросы:"
   ],
   "metadata": {
    "collapsed": false,
    "pycharm": {
     "name": "#%% md\n"
    }
   }
  },
  {
   "cell_type": "code",
   "execution_count": 46,
   "outputs": [
    {
     "name": "stdout",
     "output_type": "stream",
     "text": [
      "average_movies_per_user\n",
      "select avg(movies_watched) from ( select count(movie_id) as movies_watched from views group by user_id    ) as movies_count;\n",
      "----------\n",
      "average_view_times\n",
      "select avg(viewed_frame) from views;\n",
      "----------\n",
      "top_20_users_by_total_view_time\n",
      "select user_id, sum(viewed_frame) as view_time from views group by user_id order by view_time desc limit 20;\n",
      "----------\n",
      "top_20_movies_by_view_time\n",
      "select movie_id, max(viewed_frame) as view_time from views group by movie_id order by view_time desc limit 20;\n",
      "----------\n",
      "unique_movies_count\n",
      "select count(distinct movie_id) from views;\n",
      "----------\n",
      "unique_users_count\n",
      "select count(distinct user_id) from views;\n",
      "----------\n"
     ]
    }
   ],
   "source": [
    "from utils.test_queries import QUERIES\n",
    "\n",
    "for name, query in QUERIES.items():\n",
    "    print(f'{name}')\n",
    "    print(f'{query}')\n",
    "    print(\"----------\")"
   ],
   "metadata": {
    "collapsed": false,
    "pycharm": {
     "name": "#%%\n"
    }
   }
  },
  {
   "cell_type": "markdown",
   "source": [
    "#### Тестирование Clickhouse"
   ],
   "metadata": {
    "collapsed": false,
    "pycharm": {
     "name": "#%% md\n"
    }
   }
  },
  {
   "cell_type": "code",
   "execution_count": 47,
   "outputs": [],
   "source": [
    "from clickhouse_driver import Client\n",
    "\n",
    "from utils.test_queries import QUERIES\n",
    "from utils.timer import timer\n",
    "from config import BENCHMARK_ITERATIONS, CLICKHOUSE_HOST\n",
    "\n",
    "client = Client(CLICKHOUSE_HOST)\n",
    "\n",
    "\n",
    "@timer(BENCHMARK_ITERATIONS)\n",
    "def execute_query(query: str):\n",
    "    client.execute(query)"
   ],
   "metadata": {
    "collapsed": false,
    "pycharm": {
     "name": "#%%\n"
    }
   }
  },
  {
   "cell_type": "code",
   "execution_count": 48,
   "outputs": [
    {
     "name": "stdout",
     "output_type": "stream",
     "text": [
      "average_movies_per_user\n",
      "Average execution time (over 10 runs): 0.3282 seconds\n",
      "\n",
      "average_view_times\n",
      "Average execution time (over 10 runs): 0.0179 seconds\n",
      "\n",
      "top_20_users_by_total_view_time\n",
      "Average execution time (over 10 runs): 0.2414 seconds\n",
      "\n",
      "top_20_movies_by_view_time\n",
      "Average execution time (over 10 runs): 0.1241 seconds\n",
      "\n",
      "unique_movies_count\n",
      "Average execution time (over 10 runs): 0.0636 seconds\n",
      "\n",
      "unique_users_count\n",
      "Average execution time (over 10 runs): 0.1454 seconds\n",
      "\n"
     ]
    }
   ],
   "source": [
    "for name, query in QUERIES.items():\n",
    "    print(f'{name}')\n",
    "    execute_query(query)"
   ],
   "metadata": {
    "collapsed": false,
    "pycharm": {
     "name": "#%%\n"
    }
   }
  },
  {
   "cell_type": "markdown",
   "source": [
    "#### Тестирование Vertica"
   ],
   "metadata": {
    "collapsed": false,
    "pycharm": {
     "name": "#%% md\n"
    }
   }
  },
  {
   "cell_type": "code",
   "execution_count": 49,
   "outputs": [],
   "source": [
    "import vertica_python\n",
    "\n",
    "from utils.test_queries import QUERIES\n",
    "from utils.timer import timer\n",
    "from config import BENCHMARK_ITERATIONS, VERTICA_CONNECTION_PARAMS\n",
    "\n",
    "\n",
    "@timer(BENCHMARK_ITERATIONS)\n",
    "def execute_query(query: str):\n",
    "    with vertica_python.connect(**VERTICA_CONNECTION_PARAMS) as connection:\n",
    "        cursor = connection.cursor()\n",
    "        cursor.execute(query)"
   ],
   "metadata": {
    "collapsed": false,
    "pycharm": {
     "name": "#%%\n"
    }
   }
  },
  {
   "cell_type": "code",
   "execution_count": 50,
   "outputs": [
    {
     "name": "stdout",
     "output_type": "stream",
     "text": [
      "average_movies_per_user\n",
      "Average execution time (over 10 runs): 0.4929 seconds\n",
      "\n",
      "average_view_times\n",
      "Average execution time (over 10 runs): 0.2027 seconds\n",
      "\n",
      "top_20_users_by_total_view_time\n",
      "Average execution time (over 10 runs): 0.4802 seconds\n",
      "\n",
      "top_20_movies_by_view_time\n",
      "Average execution time (over 10 runs): 1.2334 seconds\n",
      "\n",
      "unique_movies_count\n",
      "Average execution time (over 10 runs): 0.6284 seconds\n",
      "\n",
      "unique_users_count\n",
      "Average execution time (over 10 runs): 0.4870 seconds\n",
      "\n"
     ]
    }
   ],
   "source": [
    "for name, query in QUERIES.items():\n",
    "    print(f'{name}')\n",
    "    execute_query(query)"
   ],
   "metadata": {
    "collapsed": false,
    "pycharm": {
     "name": "#%%\n"
    }
   }
  },
  {
   "cell_type": "markdown",
   "source": [
    "### Вывод\n",
    "\n",
    "Clickhouse показывает **лучшую производительность** во всех проведенных тестах!"
   ],
   "metadata": {
    "collapsed": false,
    "pycharm": {
     "name": "#%% md\n"
    }
   }
  },
  {
   "cell_type": "markdown",
   "source": [
    "### Остановка"
   ],
   "metadata": {
    "collapsed": false,
    "pycharm": {
     "name": "#%% md\n"
    }
   }
  },
  {
   "cell_type": "code",
   "execution_count": 53,
   "outputs": [
    {
     "name": "stdout",
     "output_type": "stream",
     "text": [
      "/usr/lib/python3/dist-packages/requests/__init__.py:89: RequestsDependencyWarning: urllib3 (1.26.5) or chardet (3.0.4) doesn't match a supported version!\r\n",
      "  warnings.warn(\"urllib3 ({}) or chardet ({}) doesn't match a supported \"\r\n",
      "Stopping olap_vertica_1    ... \r\n",
      "Stopping olap_clickhouse_1 ... \r\n",
      "\u001B[2Bping olap_vertica_1    ... \u001B[32mdone\u001B[0m\u001B[2A\u001B[2KRemoving olap_vertica_1    ... \r\n",
      "Removing olap_clickhouse_1 ... \r\n",
      "\u001B[1BRemoving network olap_default32mdone\u001B[0m\r\n",
      "Removing volume olap_ugc_bench_clickhouse_data\r\n",
      "Removing volume olap_ugc_bench_vertica_data\r\n"
     ]
    }
   ],
   "source": [
    "!docker-compose down -v"
   ],
   "metadata": {
    "collapsed": false,
    "pycharm": {
     "name": "#%%\n"
    }
   }
  },
  {
   "cell_type": "code",
   "execution_count": null,
   "outputs": [],
   "source": [],
   "metadata": {
    "collapsed": false,
    "pycharm": {
     "name": "#%%\n"
    }
   }
  }
 ],
 "metadata": {
  "kernelspec": {
   "display_name": "Python 3",
   "language": "python",
   "name": "python3"
  },
  "language_info": {
   "codemirror_mode": {
    "name": "ipython",
    "version": 2
   },
   "file_extension": ".py",
   "mimetype": "text/x-python",
   "name": "python",
   "nbconvert_exporter": "python",
   "pygments_lexer": "ipython2",
   "version": "2.7.6"
  }
 },
 "nbformat": 4,
 "nbformat_minor": 0
}