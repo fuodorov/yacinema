{
 "cells": [
  {
   "cell_type": "markdown",
   "metadata": {
    "slideshow": {
     "slide_type": "slide"
    }
   },
   "source": [
    "# ЕТЛ на стероидах в стриминговом сервисе\n",
    "\n",
    "\n",
    "## Дипломная работа по курсу \"Мидл питон-разработчик\"\n",
    "\n",
    "\n",
    "#### Выполнили [Вячеслав Федоров](https://github.com/fuodorov) и [Егор Петров](https://github.com/bigdatacon) в 2022 году"
   ]
  },
  {
   "cell_type": "markdown",
   "metadata": {
    "slideshow": {
     "slide_type": "slide"
    }
   },
   "source": [
    "## Проблематика"
   ]
  },
  {
   "cell_type": "markdown",
   "metadata": {
    "slideshow": {
     "slide_type": "subslide"
    }
   },
   "source": [
    "### В каком формате передаются «сырые» фильмы?\n",
    "\n",
    "В межстудийном обмене обычно используется формат MXF. Видео может быть представлено совсем в сыром виде, например, передаётся каждый кадр. Это всё зажимается в код, который называется PEG 2000 — считается, что он без потерь. Там нет никакого потокового видеосжатия, просто лежит кадр за кадром.\n",
    "\n",
    "Такие файлы весят от 100 гигабайт до 1 терабайта."
   ]
  },
  {
   "cell_type": "markdown",
   "metadata": {
    "slideshow": {
     "slide_type": "subslide"
    }
   },
   "source": [
    "### Что значит «потоковое сжатие»?\n",
    "Любое видео — это последовательность картинок с подложенной под неё аудиодорожкой. Но если просто передавать эти картинки, то видеофайлы будут огромными. Чтобы их уменьшить, используют различные алгоритмы сжатия.\n",
    "\n",
    "Например, может быть такой алгоритм:\n",
    "\n",
    "* Если у нас видео со скоростью 25 кадров в секунду, мы назначаем опорным каждый 25-й кадр. Опорные кадры мы передаём полностью. \n",
    "* Все остальные неопорные кадры мы анализируем: что в следующем кадре изменилось относительно предыдущего. Если что-то изменилось, мы это кодируем и передаём. Если не изменилось, мы это не кодируем и не передаём. \n",
    "* Получается, что между опорными кадрами передаётся только то, что изменилось. Этих данных может быть много, а может быть и мало. "
   ]
  },
  {
   "cell_type": "markdown",
   "metadata": {
    "slideshow": {
     "slide_type": "slide"
    }
   },
   "source": [
    "### Как происходит кодирование? Что такое кодек? \n",
    "\n",
    "Дальше в дело вступает система управления контентом. Нужно завести запись в базе данных, что это такой-то фильм, его снял такой-то режиссёр, в нём играют такие-то актёры. \n",
    "\n",
    "<!-- У нас есть специальная ферма для транскодирования файлов, туда заводится задача: вот исходные файлы, их нужно скодировать для таких-то выходных устройств. У фермы постоянно идёт какой-то поток, она постоянно всё кодирует — этот файл встаёт в очередь. Когда до него доходит дело, ферма забирает его к себе и там его транскодирует. -->"
   ]
  },
  {
   "cell_type": "markdown",
   "metadata": {
    "slideshow": {
     "slide_type": "subslide"
    }
   },
   "source": [
    "**Что такое «транскодирует»?** Исходный файл, который у нас есть, ни один мобильный телефон, ни один телевизор никогда в жизни не проиграет — он слишком хорош для этих устройств. Для того чтобы это стало возможным, для того чтобы просто сам видеокодек сложился, контейнер был понятен, — для этого нужно преобразовать этот крутой файл в понятные для устройств видеофайлы."
   ]
  },
  {
   "cell_type": "markdown",
   "metadata": {
    "slideshow": {
     "slide_type": "subslide"
    }
   },
   "source": [
    "**Кодек** — это формат сжатия для видео. Это такая инструкция, что нужно делать со входящим потоком данных, чтобы его уменьшить. Но при этом когда декодирующее устройство его обратно развернёт, оно сможет  вывести на экран картинку, и мы будем видеть как будто бы всё то же самое."
   ]
  },
  {
   "cell_type": "markdown",
   "metadata": {
    "slideshow": {
     "slide_type": "slide"
    }
   },
   "source": [
    "## Компоненты сервиса"
   ]
  },
  {
   "cell_type": "markdown",
   "metadata": {
    "slideshow": {
     "slide_type": "subslide"
    }
   },
   "source": [
    "<img src=\"img/architecture.png\" width=\"400\" height=\"600\">"
   ]
  },
  {
   "cell_type": "markdown",
   "metadata": {
    "slideshow": {
     "slide_type": "slide"
    }
   },
   "source": [
    "## S3 Storage\n",
    "\n",
    "**MinIO** - Это опенсорсное объектное хранилище, совместимое с Amazon S3 API. Выпускается под лицензией Apache v2 и придерживается философии спартанского минимализма.\n",
    "\n",
    "То есть у него нет развесистого GUI с дашбордами, графиками и многочисленными меню. MinIO просто запускает свой сервер одной командой, на котором можно просто хранить данные, используя всю мощь S3 API. "
   ]
  },
  {
   "cell_type": "markdown",
   "metadata": {
    "slideshow": {
     "slide_type": "subslide"
    }
   },
   "source": [
    "<img src=\"img/minio.png\" width=\"400\" height=\"600\">"
   ]
  },
  {
   "cell_type": "markdown",
   "metadata": {
    "slideshow": {
     "slide_type": "slide"
    }
   },
   "source": [
    "## Movies Streaming Admin\n",
    "\n",
    "**Django Admin** — это готовый CRUDL интерфейс с поиском, фильтрами и хитрыми настройками."
   ]
  },
  {
   "cell_type": "markdown",
   "metadata": {
    "slideshow": {
     "slide_type": "subslide"
    }
   },
   "source": [
    "<img src=\"img/admin.png\" width=\"400\" height=\"600\">"
   ]
  },
  {
   "cell_type": "markdown",
   "metadata": {
    "slideshow": {
     "slide_type": "slide"
    }
   },
   "source": [
    "## Movies Streaming API\n",
    "\n",
    "**Django Rest Framework (DRF)** — это библиотека, которая работает со стандартными моделями Django для создания гибкого и мощного API для проекта. "
   ]
  },
  {
   "cell_type": "markdown",
   "metadata": {
    "slideshow": {
     "slide_type": "subslide"
    }
   },
   "source": [
    "<img src=\"img/drf.png\" width=\"400\" height=\"600\">"
   ]
  },
  {
   "cell_type": "markdown",
   "metadata": {
    "slideshow": {
     "slide_type": "slide"
    }
   },
   "source": [
    "## Movies Streaming Converter\n",
    "\n",
    "**FFmpeg** - набор свободных библиотек с открытым исходным кодом, которые позволяют записывать, конвертировать и передавать цифровые аудио- и видеозаписи в различных форматах. Он включает libavcodec — библиотеку кодирования и декодирования аудио и видео, и libavformat — библиотеку мультиплексирования и демультиплексирования в медиаконтейнер. Название происходит от названия экспертной группы MPEG и FF, означающего «fast forward».\n",
    "\n",
    "**FastAPI** - относительно новый веб-фреймворк, написанный на языке программирования Python для создания REST (а если сильно постараться то и GraphQL) API, основанный на новых возможностях Python 3.6+, таких как: подсказки типов (type-hints), нативная асинхронность (asyncio). Помимо всего прочего, FastAPI плотно интегрируется с OpenAPI-schema и автоматически генерирует документацию для вашего API посредством Swagger и ReDoc."
   ]
  },
  {
   "cell_type": "markdown",
   "metadata": {
    "slideshow": {
     "slide_type": "subslide"
    }
   },
   "source": [
    "<img src=\"img/fastapi.png\" width=\"400\" height=\"600\">"
   ]
  },
  {
   "cell_type": "markdown",
   "metadata": {
    "slideshow": {
     "slide_type": "slide"
    }
   },
   "source": [
    "## Airflow ETL\n",
    "\n",
    "**Apache Airflow** - это открытое программное обеспечение для создания, мониторинга и оркестрации сценариев обработки данных."
   ]
  },
  {
   "cell_type": "markdown",
   "metadata": {
    "slideshow": {
     "slide_type": "subslide"
    }
   },
   "source": [
    "<img src=\"img/airflow.png\" width=\"400\" height=\"600\">"
   ]
  },
  {
   "cell_type": "markdown",
   "metadata": {
    "slideshow": {
     "slide_type": "slide"
    }
   },
   "source": [
    "**Источники:**\n",
    "* [Как устроены онлайн-кинотеатры: техническая сторона](https://thecode.media/zapusk-kino/)\n",
    "* [What are microservices?](https://microservices.io/)\n",
    "* [MinIo для самых маленьких](https://habr.com/ru/company/veeam/blog/517392/)\n",
    "* [Apache Airflow: делаем ETL проще](https://habr.com/ru/post/512386/)"
   ]
  }
 ],
 "metadata": {
  "celltoolbar": "Slideshow",
  "kernelspec": {
   "display_name": "Python 3",
   "language": "python",
   "name": "python3"
  },
  "language_info": {
   "codemirror_mode": {
    "name": "ipython",
    "version": 3
   },
   "file_extension": ".py",
   "mimetype": "text/x-python",
   "name": "python",
   "nbconvert_exporter": "python",
   "pygments_lexer": "ipython3",
   "version": "3.9.1"
  }
 },
 "nbformat": 4,
 "nbformat_minor": 4
}
